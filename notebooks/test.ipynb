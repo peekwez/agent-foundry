{
 "cells": [
  {
   "cell_type": "code",
   "execution_count": null,
   "id": "0",
   "metadata": {},
   "outputs": [],
   "source": [
    "from typing import Literal\n",
    "\n",
    "from pydantic import BaseModel, Field"
   ]
  },
  {
   "cell_type": "code",
   "execution_count": null,
   "id": "1",
   "metadata": {},
   "outputs": [],
   "source": [
    "class ChangeLogEntry(BaseModel):\n",
    "    type: Literal[\"add\", \"modify\", \"remove\"] = Field(\n",
    "        ..., description=\"Type of change: add, remove, or modify.\"\n",
    "    )\n",
    "    old_text: str | None = Field(\n",
    "        None, description=\"Text before the change (if applicable)\"\n",
    "    )\n",
    "    new_text: str | None = Field(\n",
    "        None, description=\"Text after the change (if applicable)\"\n",
    "    )\n",
    "\n",
    "\n",
    "class ChangeLogOutput(BaseModel):\n",
    "    \"\"\"\n",
    "    Data model for the output of the changelog agent.\n",
    "    \"\"\"\n",
    "\n",
    "    entries: list[ChangeLogEntry] = Field(\n",
    "        ..., description=\"List of changelog entries for this section.\"\n",
    "    )\n",
    "    count: int = Field(..., description=\"Total number of changelog entries.\")"
   ]
  },
  {
   "cell_type": "code",
   "execution_count": null,
   "id": "2",
   "metadata": {},
   "outputs": [],
   "source": [
    "print(ChangeLogOutput.schema_json(indent=2))"
   ]
  },
  {
   "cell_type": "code",
   "execution_count": null,
   "id": "3",
   "metadata": {},
   "outputs": [],
   "source": []
  }
 ],
 "metadata": {
  "kernelspec": {
   "display_name": "agent-foundry",
   "language": "python",
   "name": "python3"
  },
  "language_info": {
   "codemirror_mode": {
    "name": "ipython",
    "version": 3
   },
   "file_extension": ".py",
   "mimetype": "text/x-python",
   "name": "python",
   "nbconvert_exporter": "python",
   "pygments_lexer": "ipython3",
   "version": "3.12.10"
  }
 },
 "nbformat": 4,
 "nbformat_minor": 5
}
