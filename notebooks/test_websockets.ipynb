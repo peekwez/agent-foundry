{
 "cells": [
  {
   "cell_type": "code",
   "execution_count": null,
   "id": "0",
   "metadata": {},
   "outputs": [],
   "source": [
    "import asyncio\n",
    "import json\n",
    "\n",
    "import nest_asyncio\n",
    "import websockets\n",
    "\n",
    "nest_asyncio.apply()"
   ]
  },
  {
   "cell_type": "code",
   "execution_count": null,
   "id": "1",
   "metadata": {},
   "outputs": [],
   "source": [
    "async def test_websocket(task_id: str):\n",
    "    # uri = \"ws://localhost:8888/ws/run-task/updates\"\n",
    "    uri = (\n",
    "        \"wss://agent-foundry.canadacentral.cloudapp.azure.com:13443/ws/run-task/updates\"\n",
    "    )\n",
    "    async with websockets.connect(uri, ping_timeout=60) as websocket:\n",
    "        data = json.dumps({\"task_id\": task_id})\n",
    "        await websocket.send(data)\n",
    "        while True:\n",
    "            try:\n",
    "                # Wait for a response from the server\n",
    "                response = await asyncio.wait_for(websocket.recv(), timeout=5)\n",
    "                print(f\"Received: {response}\")\n",
    "            except TimeoutError:\n",
    "                print(\"No response received within the timeout period.\")\n",
    "                break"
   ]
  },
  {
   "cell_type": "code",
   "execution_count": null,
   "id": "2",
   "metadata": {},
   "outputs": [],
   "source": [
    "await test_websocket(\"8d11a75e94c043b9b8ee066b6c394c8e\")"
   ]
  },
  {
   "cell_type": "code",
   "execution_count": null,
   "id": "3",
   "metadata": {},
   "outputs": [],
   "source": [
    "data = '{\"task_id\": \"8d11a75e94c043b9b8ee066b6c394c8e\"}'"
   ]
  }
 ],
 "metadata": {
  "kernelspec": {
   "display_name": "agent-foundry",
   "language": "python",
   "name": "python3"
  },
  "language_info": {
   "codemirror_mode": {
    "name": "ipython",
    "version": 3
   },
   "file_extension": ".py",
   "mimetype": "text/x-python",
   "name": "python",
   "nbconvert_exporter": "python",
   "pygments_lexer": "ipython3",
   "version": "3.12.10"
  }
 },
 "nbformat": 4,
 "nbformat_minor": 5
}
